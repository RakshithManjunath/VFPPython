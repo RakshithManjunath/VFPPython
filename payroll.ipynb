{
 "cells": [
  {
   "cell_type": "code",
   "execution_count": 89,
   "metadata": {},
   "outputs": [],
   "source": [
    "# importing libraries\n",
    "from dbfread import DBF\n",
    "import pandas as pd\n",
    "import numpy as np\n",
    "from datetime import datetime, timedelta"
   ]
  },
  {
   "cell_type": "code",
   "execution_count": 90,
   "metadata": {},
   "outputs": [
    {
     "name": "stdout",
     "output_type": "stream",
     "text": [
      "  EMPCODE COMCODE UNCODE EMP_CO_COD    EMP_CU_COD                        NAME  \\\n",
      "0  ZI0001     001    001  001ZI0001  001001ZI0001           MUKESH N KESERKER   \n",
      "1  ZI0002     001    001  001ZI0002  001001ZI0002                  SARAVANA C   \n",
      "2  ZI0003     001    001  001ZI0003  001001ZI0003  K E LAKSHMINARAYANA SHETTY   \n",
      "3  ZI0004     001    001  001ZI0004  001001ZI0004            NAGABHUSHANA K G   \n",
      "4  ZI0006     001    001  001ZI0006  001001ZI0006                      RAJU L   \n",
      "\n",
      "  EMP_DEPT  TOKEN     DEPT_NAME DAY1  ... WO_24  WO_25  WO_26  WO_27  WO_28  \\\n",
      "0      001      1           AMT   AB  ...  True  False  False  False  False   \n",
      "1      001      2           AMT       ...  True  False  False  False  False   \n",
      "2      001      3           AMT   PR  ...  True  False  False  False  False   \n",
      "3      001      4           AMT   AB  ...  True  False  False  False  False   \n",
      "4      002      6  FRONT OFFICE   AB  ...  True  False  False  False  False   \n",
      "\n",
      "   WO_29  WO_30  WO_31 DAY0  ASCHD  \n",
      "0  False  False  False   AB  False  \n",
      "1  False  False  False   PR  False  \n",
      "2  False  False  False   PR  False  \n",
      "3  False  False  False   AB  False  \n",
      "4  False  False  False   AB  False  \n",
      "\n",
      "[5 rows x 229 columns]\n"
     ]
    }
   ],
   "source": [
    "# Read muster data from DBF file\n",
    "muster_table = DBF('D:/ZIONtest/muster.dbf', load=True)\n",
    "muster_df = pd.DataFrame(iter(muster_table))\n",
    "print(muster_df.head())"
   ]
  },
  {
   "cell_type": "code",
   "execution_count": 91,
   "metadata": {},
   "outputs": [],
   "source": [
    "must_token = muster_df['TOKEN']\n",
    "must_name = muster_df['NAME']\n",
    "must_empcode = muster_df['EMPCODE']\n",
    "must_date_join = muster_df['DATE_JOIN']\n",
    "must_date_leave = muster_df['DATE_LEAVE']\n",
    "must_comcode = muster_df['COMCODE']\n",
    "must_dept_name = muster_df['DEPT_NAME']\n",
    "must_dept_code = muster_df['EMP_DEPT']\n",
    "must_desi_name = muster_df['DESI_NAME']\n",
    "must_desi_code = muster_df['EMP_DESI']"
   ]
  },
  {
   "cell_type": "code",
   "execution_count": 92,
   "metadata": {},
   "outputs": [
    {
     "name": "stdout",
     "output_type": "stream",
     "text": [
      "      CUR_DAY  NO_DAY  SUN_DAY   DAY1   DAY2  DAY3   DAY4   DAY5   DAY6  \\\n",
      "0  2023-09-18      30        4  False  False  True  False  False  False   \n",
      "\n",
      "    DAY7  ...  NDAY22  NDAY23  NDAY24  NDAY25  NDAY26  NDAY27  NDAY28  NDAY29  \\\n",
      "0  False  ...      22      23      24      25      26      27      28      29   \n",
      "\n",
      "   NDAY30  NDAY31  \n",
      "0      30      31  \n",
      "\n",
      "[1 rows x 67 columns]\n"
     ]
    }
   ],
   "source": [
    "dated_table = DBF('D:/ZIONtest/dated.dbf', load=True)\n",
    "dated_df = pd.DataFrame(iter(dated_table))\n",
    "print(dated_df.head())"
   ]
  },
  {
   "cell_type": "code",
   "execution_count": 93,
   "metadata": {},
   "outputs": [
    {
     "name": "stdout",
     "output_type": "stream",
     "text": [
      "0   2023-09-01\n",
      "Name: MUFRDATE, dtype: datetime64[ns]\n",
      "0   2023-09-30\n",
      "Name: MUTODATE, dtype: datetime64[ns]\n"
     ]
    }
   ],
   "source": [
    "start_date = dated_df['MUFRDATE']\n",
    "end_date = dated_df['MUTODATE']\n",
    "\n",
    "start_date = pd.to_datetime(start_date)\n",
    "end_date = pd.to_datetime(end_date)\n",
    "\n",
    "print(start_date)\n",
    "print(end_date)"
   ]
  },
  {
   "cell_type": "code",
   "execution_count": 94,
   "metadata": {},
   "outputs": [
    {
     "name": "stdout",
     "output_type": "stream",
     "text": [
      "       HOL_DT          HOL_DESC HOL_TYPE HTYPE_DESC HOL_COMPDT\n",
      "0  2023-09-10            STRIKE       PH                  None\n",
      "1  2023-08-08  GANESHA FESTIVAL       PH                  None\n",
      "2  2023-09-20         DEEPAVALI       PH                  None\n"
     ]
    }
   ],
   "source": [
    "holmast_table = DBF('D:/ZIONtest/holmast.dbf', load=True)\n",
    "holmast_df = pd.DataFrame(iter(holmast_table))\n",
    "print(holmast_df)"
   ]
  },
  {
   "cell_type": "code",
   "execution_count": 95,
   "metadata": {},
   "outputs": [
    {
     "name": "stdout",
     "output_type": "stream",
     "text": [
      "      HOL_DT   HOL_DESC HOL_TYPE HTYPE_DESC HOL_COMPDT\n",
      "0 2023-09-10     STRIKE       PH                  None\n",
      "2 2023-09-20  DEEPAVALI       PH                  None\n"
     ]
    }
   ],
   "source": [
    "holmast_df['HOL_DT'] = pd.to_datetime(holmast_df['HOL_DT'])\n",
    "mask = (holmast_df['HOL_DT'] >= start_date.min()) & (holmast_df['HOL_DT'] <= end_date.max())\n",
    "holmast_filtered_df = holmast_df.loc[mask]\n",
    "print(holmast_filtered_df)"
   ]
  },
  {
   "cell_type": "code",
   "execution_count": 96,
   "metadata": {},
   "outputs": [],
   "source": [
    "hol_dt = holmast_filtered_df['HOL_DT']\n",
    "hol_desc = holmast_filtered_df['HOL_DESC']\n",
    "hol_type = holmast_filtered_df['HOL_TYPE']"
   ]
  },
  {
   "cell_type": "code",
   "execution_count": 97,
   "metadata": {},
   "outputs": [
    {
     "name": "stdout",
     "output_type": "stream",
     "text": [
      "   APPLNO EMPCODE COMCODE       LV_ST       LV_ED   FN_Y LV_TYPE  TOT_DAY  \\\n",
      "0   00001  ZI0002     001  2023-09-11  2018-05-11   True      CO      1.0   \n",
      "1   00002  ZI0007     001  2023-09-13  2018-05-11  False      CO      1.0   \n",
      "2   00003  ZI0002     001  2023-09-14  2018-05-15   True      CO      2.0   \n",
      "3   00004    1726     001  2018-06-14  2018-06-14  False      CO      1.0   \n",
      "4   00001    1042     001  2018-06-02  2018-06-02  False      EL      1.0   \n",
      "5   00002    1042     001  2018-06-02  2018-06-02  False      EL      1.0   \n",
      "6   00001    1312     001  2018-06-19  2018-06-20  False      EL     35.0   \n",
      "7   00002    1312     001  2018-06-15  2018-06-15  False      EL     33.0   \n",
      "8   00003    1312     001  2018-06-28  2018-06-29  False      EL     35.0   \n",
      "9   00001    1295     001  2018-06-27  2018-06-27  False      EL     37.0   \n",
      "10  00001    1590     001  2018-06-11  2018-06-13  False      CO     43.0   \n",
      "11  00001    1561     001  2018-06-04  2018-06-04   True      EL      6.0   \n",
      "12  00002    1561     001  2018-06-06  2018-06-06   True      EL      6.0   \n",
      "13  00003    1561     001  2018-06-18  2018-06-19  False      CO      6.0   \n",
      "14  00004    1561     001  2018-06-28  2018-06-28  False      EL      5.0   \n",
      "15  00001    1677     001  2018-06-20  2018-06-20  False      EL     12.0   \n",
      "16  00002    1295     001  2018-06-23  2018-06-23  False      EL     37.0   \n",
      "17  00001    1440     001  2018-06-16  2018-06-16  False      EL     24.0   \n",
      "18  00001    1767     001  2018-06-13  2018-06-16  False      CO      4.0   \n",
      "19  00001    1638     001  2018-06-27  2018-06-27  False      CO     18.0   \n",
      "20  00001    1318     001  2018-06-18  2018-06-20  False      EL     30.0   \n",
      "21  00001    1285     001  2018-06-16  2018-06-19  False      EL     30.0   \n",
      "22  00002    1285     001  2018-06-08  2018-06-09  False      EL     28.0   \n",
      "23  00001    1709     001  2018-06-23  2018-06-23  False      EL      1.0   \n",
      "24  00003    1042     001  2018-06-21  2018-06-21  False      EL     27.0   \n",
      "\n",
      "    REMARKS LVDEL LVCODE    EMPAPPL  \n",
      "0   APROVED  None   None  172600001  \n",
      "1   APROVED  None   None  172600002  \n",
      "2   APROVED  None   None  172600003  \n",
      "3            None   None  172600004  \n",
      "4            None   None  104200001  \n",
      "5            None   None  104200002  \n",
      "6        OK  None   None  131200001  \n",
      "7        OK  None   None  131200002  \n",
      "8        OK  None   None  131200003  \n",
      "9        OK  None   None  129500001  \n",
      "10       OK  None   None  159000001  \n",
      "11       OK  None   None  156100001  \n",
      "12       OK  None   None  156100002  \n",
      "13       OK  None   None  156100003  \n",
      "14           None   None  156100004  \n",
      "15       OK  None   None  167700001  \n",
      "16       OK  None   None  129500002  \n",
      "17       OK  None   None  144000001  \n",
      "18       OK  None   None  176700001  \n",
      "19       OK  None   None  163800001  \n",
      "20       OK  None   None  131800001  \n",
      "21       OK  None   None  128500001  \n",
      "22       OK  None   None  128500002  \n",
      "23       OK  None   None  170900001  \n",
      "24       OK  None   None  104200003  \n"
     ]
    }
   ],
   "source": [
    "lv_form_table = DBF('D:/ZIONtest/lvform.dbf', load=True)\n",
    "lv_form_df = pd.DataFrame(iter(lv_form_table))\n",
    "print(lv_form_df)"
   ]
  },
  {
   "cell_type": "code",
   "execution_count": 98,
   "metadata": {},
   "outputs": [
    {
     "name": "stdout",
     "output_type": "stream",
     "text": [
      "  APPLNO EMPCODE COMCODE      LV_ST       LV_ED   FN_Y LV_TYPE  TOT_DAY  \\\n",
      "0  00001  ZI0002     001 2023-09-11  2018-05-11   True      CO      1.0   \n",
      "1  00002  ZI0007     001 2023-09-13  2018-05-11  False      CO      1.0   \n",
      "2  00003  ZI0002     001 2023-09-14  2018-05-15   True      CO      2.0   \n",
      "\n",
      "   REMARKS LVDEL LVCODE    EMPAPPL  \n",
      "0  APROVED  None   None  172600001  \n",
      "1  APROVED  None   None  172600002  \n",
      "2  APROVED  None   None  172600003  \n"
     ]
    }
   ],
   "source": [
    "lv_form_df['LV_ST'] = pd.to_datetime(lv_form_df['LV_ST'])\n",
    "mask = (lv_form_df['LV_ST'] >= start_date.min()) & (lv_form_df['LV_ST'] <= end_date.max())\n",
    "lv_form_filtered_df = lv_form_df.loc[mask]\n",
    "print(lv_form_filtered_df)"
   ]
  },
  {
   "cell_type": "code",
   "execution_count": 99,
   "metadata": {},
   "outputs": [],
   "source": [
    "leave_empcode = lv_form_filtered_df['EMPCODE']\n",
    "leave_start = lv_form_filtered_df['LV_ST']\n",
    "leave_type = lv_form_filtered_df['LV_TYPE']\n",
    "leave_fny = lv_form_filtered_df['FN_Y']\n",
    "leave_comcode = lv_form_filtered_df['COMCODE']"
   ]
  },
  {
   "cell_type": "code",
   "execution_count": 100,
   "metadata": {},
   "outputs": [
    {
     "name": "stdout",
     "output_type": "stream",
     "text": [
      "      TOKEN COMCODE       PDATE  HOURS  MINUTES  MODE                  PDTIME  \\\n",
      "0       579     002  2023-09-01      5        2     0 2023-09-01 05:02:00.000   \n",
      "1        78     002  2023-09-01      5        2     0 2023-09-01 05:02:00.000   \n",
      "2        67     002  2023-09-01      6       28     0 2023-09-01 06:27:59.999   \n",
      "3       659     002  2023-09-01      6       28     0 2023-09-01 06:27:59.999   \n",
      "4       660     002  2023-09-01      6       30     0 2023-09-01 06:30:00.000   \n",
      "...     ...     ...         ...    ...      ...   ...                     ...   \n",
      "4310    698     002  2023-09-19     13       50     1 2023-09-19 13:50:00.000   \n",
      "4311    687     002  2023-09-19     13       52     1 2023-09-19 13:52:00.000   \n",
      "4312    116     002  2023-09-19     14       39     1 2023-09-19 14:38:59.999   \n",
      "4313      7     001  2023-09-03      8       30     0 2023-09-03 08:29:59.999   \n",
      "4314      7     001  2023-09-03     16       30     1 2023-09-03 16:30:00.000   \n",
      "\n",
      "            MCIP  \n",
      "0     10.10.0.80  \n",
      "1     10.10.0.80  \n",
      "2     10.10.0.80  \n",
      "3     10.10.0.80  \n",
      "4     10.10.0.80  \n",
      "...          ...  \n",
      "4310  10.10.0.81  \n",
      "4311  10.10.0.81  \n",
      "4312  10.10.0.81  \n",
      "4313              \n",
      "4314              \n",
      "\n",
      "[4315 rows x 8 columns]\n"
     ]
    }
   ],
   "source": [
    "punches_table = DBF('D:/ZIONtest/punches.dbf', load=True)\n",
    "punches_df = pd.DataFrame(iter(punches_table))\n",
    "print(punches_df)"
   ]
  },
  {
   "cell_type": "code",
   "execution_count": 101,
   "metadata": {},
   "outputs": [],
   "source": [
    "punches_token = punches_df['TOKEN']\n",
    "punches_comcode = punches_df['COMCODE']\n",
    "punches_pdtime = punches_df['PDTIME']\n",
    "punches_pdate = punches_df['PDATE']\n",
    "punches_mode = punches_df['MODE']"
   ]
  },
  {
   "cell_type": "code",
   "execution_count": 102,
   "metadata": {},
   "outputs": [
    {
     "data": {
      "text/plain": [
       "0       2023-09-01\n",
       "1       2023-09-01\n",
       "2       2023-09-01\n",
       "3       2023-09-01\n",
       "4       2023-09-01\n",
       "           ...    \n",
       "4310    2023-09-19\n",
       "4311    2023-09-19\n",
       "4312    2023-09-19\n",
       "4313    2023-09-03\n",
       "4314    2023-09-03\n",
       "Name: PDATE, Length: 4315, dtype: object"
      ]
     },
     "execution_count": 102,
     "metadata": {},
     "output_type": "execute_result"
    }
   ],
   "source": [
    "punches_pdate"
   ]
  },
  {
   "cell_type": "code",
   "execution_count": 103,
   "metadata": {},
   "outputs": [],
   "source": [
    "punches_df = punches_df.sort_values(by=['TOKEN', 'PDATE', 'MODE'])"
   ]
  },
  {
   "cell_type": "code",
   "execution_count": 104,
   "metadata": {},
   "outputs": [],
   "source": [
    "punches_df.to_csv('sample.csv', index=False)"
   ]
  },
  {
   "cell_type": "code",
   "execution_count": 116,
   "metadata": {},
   "outputs": [],
   "source": [
    "result_df = pd.DataFrame(columns=['PDATE', 'TOKEN', 'IN_TIME', 'OUT_TIME', 'TOTAL_TIME'])\n",
    "\n",
    "# Initialize variables for in and out punch times\n",
    "in_punch_time = None\n",
    "out_punch_time = None\n",
    "\n",
    "# Iterate over each row in the 'merged_df' DataFrame\n",
    "for index, row in punches_df.iterrows():\n",
    "    if row['MODE'] == 0:\n",
    "        in_punch_time = row['PDTIME']\n",
    "    elif row['MODE'] == 1:\n",
    "        out_punch_time = row['PDTIME']\n",
    "        if in_punch_time is not None:\n",
    "            time_difference = out_punch_time - in_punch_time\n",
    "            if time_difference.total_seconds() > 0:\n",
    "                hours, remainder = divmod(time_difference.seconds, 3600)\n",
    "                minutes, seconds = divmod(remainder, 60)\n",
    "                \n",
    "                # Concatenate the punch data to the result DataFrame\n",
    "                result_df = pd.concat([result_df, pd.DataFrame({\n",
    "                    'PDATE': [pd.to_datetime(in_punch_time, format='%d-%b-%y %H:%M:%S').strftime('%Y-%m-%d')],\n",
    "                    'TOKEN': [row['TOKEN']],\n",
    "                    'IN_TIME': [in_punch_time.strftime('%Y-%m-%d %H:%M:%S')],\n",
    "                    'OUT_TIME': [out_punch_time.strftime('%Y-%m-%d %H:%M:%S')],\n",
    "                    'TOTAL_TIME': [f'{hours:02}:{minutes:02}:{seconds:02}']\n",
    "                })], ignore_index=True)\n",
    "\n",
    "result_df.to_csv('generated.csv', index=False)"
   ]
  },
  {
   "cell_type": "code",
   "execution_count": null,
   "metadata": {},
   "outputs": [],
   "source": []
  }
 ],
 "metadata": {
  "kernelspec": {
   "display_name": "vfp_python",
   "language": "python",
   "name": "python3"
  },
  "language_info": {
   "codemirror_mode": {
    "name": "ipython",
    "version": 3
   },
   "file_extension": ".py",
   "mimetype": "text/x-python",
   "name": "python",
   "nbconvert_exporter": "python",
   "pygments_lexer": "ipython3",
   "version": "3.6.13"
  }
 },
 "nbformat": 4,
 "nbformat_minor": 2
}
