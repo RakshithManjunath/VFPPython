{
 "cells": [
  {
   "cell_type": "code",
   "execution_count": 6,
   "metadata": {},
   "outputs": [],
   "source": [
    "from dbfread import DBF\n",
    "import pandas as pd\n",
    "import numpy as np\n",
    "\n",
    "# Load punches_table\n",
    "punches_table = DBF('D:/ZIONtest/punches.dbf', load=True)\n",
    "\n",
    "# Extract columns from punches_table\n",
    "token = [record['TOKEN'] for record in punches_table]\n",
    "pdtime = [record['PDTIME'] for record in punches_table]\n",
    "mode = [record['MODE'] for record in punches_table]\n",
    "\n",
    "punches_df = pd.DataFrame({'token': token, 'pdtime': pdtime, 'mode': mode})\n",
    "\n",
    "punches_df['pdtime'] = pd.to_datetime(punches_df['pdtime'], format='%d-%b-%y %H:%M:%S')\n",
    "\n",
    "# Sort DataFrame by 'token', 'pdtime', and 'mode'\n",
    "punches_df.sort_values(by=['token', 'pdtime', 'mode'], inplace=True)\n",
    "\n",
    "# Create a new dataframe to store the calculated times\n",
    "result_df = pd.DataFrame(columns=['token', 'date', 'in time', 'out time', 'total time'])\n",
    "\n",
    "# Initialize variables to store in/out punch times\n",
    "in_punch_time = None\n",
    "out_punch_time = None\n",
    "\n",
    "# Iterate over the rows and calculate time\n",
    "for index, row in punches_df.iterrows():\n",
    "    if row['mode'] == 0:\n",
    "        in_punch_time = row['pdtime']\n",
    "    elif row['mode'] == 1:\n",
    "        out_punch_time = row['pdtime']\n",
    "        \n",
    "        result_df = pd.concat([result_df, pd.DataFrame({\n",
    "            'token': [row['token']],\n",
    "            'in time': [in_punch_time.strftime('%d-%b-%y %H:%M:%S')],\n",
    "            'out time': [out_punch_time.strftime('%d-%b-%y %H:%M:%S')],\n",
    "            'date': [pd.to_datetime(in_punch_time, format='%d-%b-%y %H:%M:%S').strftime('%d-%b-%y')]\n",
    "        })], ignore_index=True)\n",
    "\n",
    "# Sort the DataFrame by 'token', 'date'\n",
    "result_df = result_df.sort_values(by=['token', 'date'])\n",
    "\n",
    "# Save result_df to a CSV file\n",
    "result_df.to_csv('./5thJan_punches.csv', index=False)\n",
    "\n"
   ]
  }
 ],
 "metadata": {
  "kernelspec": {
   "display_name": "vfp_python",
   "language": "python",
   "name": "python3"
  },
  "language_info": {
   "codemirror_mode": {
    "name": "ipython",
    "version": 3
   },
   "file_extension": ".py",
   "mimetype": "text/x-python",
   "name": "python",
   "nbconvert_exporter": "python",
   "pygments_lexer": "ipython3",
   "version": "3.6.13"
  }
 },
 "nbformat": 4,
 "nbformat_minor": 2
}
