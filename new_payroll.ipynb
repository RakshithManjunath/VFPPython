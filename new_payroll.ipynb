{
 "cells": [
  {
   "cell_type": "code",
   "execution_count": 32,
   "metadata": {},
   "outputs": [],
   "source": [
    "from dbfread import DBF\n",
    "import pandas as pd\n",
    "import numpy as np\n",
    "\n",
    "punches_table = DBF('D:/ZIONtest/punches.dbf', load=True)\n",
    "\n",
    "punches_table = DBF('D:/ZIONtest/punches.dbf', load=True)\n",
    "punches_df = pd.DataFrame(iter(punches_table))\n",
    "punches_df = punches_df.sort_values(by=['TOKEN', 'PDATE', 'MODE'])\n",
    "\n",
    "punches_df['PDTIME'] = pd.to_datetime(punches_df['PDTIME'], format='%d-%b-%y %H:%M:%S')\n",
    "\n",
    "punches_df.sort_values(by=['TOKEN', 'PDTIME', 'MODE'], inplace=True)\n",
    "\n",
    "result_df = pd.DataFrame(columns=['TOKEN', 'PDATE', 'INTIME', 'OUTTIME', 'TOTALTIME'])\n",
    "\n",
    "in_punch_time = None\n",
    "out_punch_time = None\n",
    "\n",
    "for index, row in punches_df.iterrows():\n",
    "    if row['MODE'] == 0:\n",
    "        in_punch_time = row['PDTIME']\n",
    "    elif row['MODE'] == 1:\n",
    "        out_punch_time = row['PDTIME']\n",
    "            \n",
    "        result_df = pd.concat([result_df, pd.DataFrame({\n",
    "            'TOKEN': [row['TOKEN']],\n",
    "            'INTIME': [in_punch_time.strftime('%Y-%m-%d %H:%M:%S')],\n",
    "            'OUTTIME': [out_punch_time.strftime('%Y-%m-%d %H:%M:%S')],\n",
    "            'PDATE': [pd.to_datetime(in_punch_time, format='%d-%b-%y %H:%M:%S').strftime('%Y-%m-%d')]\n",
    "        })], ignore_index=True)\n",
    "\n",
    "result_df = result_df.sort_values(by=['TOKEN', 'PDATE'])\n",
    "\n",
    "result_df.to_csv('./5thJan_punches.csv', index=False)"
   ]
  },
  {
   "cell_type": "code",
   "execution_count": null,
   "metadata": {},
   "outputs": [],
   "source": []
  }
 ],
 "metadata": {
  "kernelspec": {
   "display_name": "vfp_python",
   "language": "python",
   "name": "python3"
  },
  "language_info": {
   "codemirror_mode": {
    "name": "ipython",
    "version": 3
   },
   "file_extension": ".py",
   "mimetype": "text/x-python",
   "name": "python",
   "nbconvert_exporter": "python",
   "pygments_lexer": "ipython3",
   "version": "3.6.13"
  }
 },
 "nbformat": 4,
 "nbformat_minor": 2
}
